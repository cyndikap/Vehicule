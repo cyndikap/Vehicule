{
 "cells": [
  {
   "cell_type": "markdown",
   "metadata": {},
   "source": [
    "# Analyse et Modélisation des Prix de Véhicules\n",
    "Créer un modèle pour prédire le prix d’un véhicule à partir de caractéristiques techniques et visuelles, avec un dataset sale, non structuré et plein de chaînes de caractères mal formatées.\n",
    "\n",
    "🔗 Dataset :\n",
    "👉 https://www.kaggle.com/datasets/CooperUnion/cardataset"
   ]
  },
  {
   "cell_type": "markdown",
   "metadata": {},
   "source": [
    "## 1. Compréhension et audit du dataset\n",
    "- Charger les données\n",
    "- Identifier les types de variables (numériques, catégorielles, chaînes)\n",
    "- Lister les incohérences et valeurs manquantes\n",
    "- Questions : colonnes utiles, corrélations potentielles, doublons/rédundances\n",
    "\n"
   ]
  },
  {
   "cell_type": "code",
   "execution_count": 5,
   "id": "30e6437b",
   "metadata": {},
   "outputs": [
    {
     "name": "stdout",
     "output_type": "stream",
     "text": [
      "Collecting pandas\n",
      "  Using cached pandas-2.2.3-cp313-cp313-win_amd64.whl.metadata (19 kB)\n",
      "Requirement already satisfied: numpy>=1.26.0 in c:\\users\\kapna\\documents\\github\\vehicule\\.venv\\lib\\site-packages (from pandas) (2.2.5)\n",
      "Requirement already satisfied: python-dateutil>=2.8.2 in c:\\users\\kapna\\documents\\github\\vehicule\\.venv\\lib\\site-packages (from pandas) (2.9.0.post0)\n",
      "Collecting pytz>=2020.1 (from pandas)\n",
      "  Using cached pytz-2025.2-py2.py3-none-any.whl.metadata (22 kB)\n",
      "Collecting tzdata>=2022.7 (from pandas)\n",
      "  Using cached tzdata-2025.2-py2.py3-none-any.whl.metadata (1.4 kB)\n",
      "Requirement already satisfied: six>=1.5 in c:\\users\\kapna\\documents\\github\\vehicule\\.venv\\lib\\site-packages (from python-dateutil>=2.8.2->pandas) (1.17.0)\n",
      "Using cached pandas-2.2.3-cp313-cp313-win_amd64.whl (11.5 MB)\n",
      "Using cached pytz-2025.2-py2.py3-none-any.whl (509 kB)\n",
      "Using cached tzdata-2025.2-py2.py3-none-any.whl (347 kB)\n",
      "Installing collected packages: pytz, tzdata, pandas\n",
      "Successfully installed pandas-2.2.3 pytz-2025.2 tzdata-2025.2\n",
      "Note: you may need to restart the kernel to use updated packages.\n"
     ]
    }
   ],
   "source": [
    "pip install pandas"
   ]
  },
  {
   "cell_type": "code",
   "execution_count": 3,
   "id": "5950f561",
   "metadata": {},
   "outputs": [
    {
     "name": "stdout",
     "output_type": "stream",
     "text": [
      "Collecting numpy\n",
      "  Downloading numpy-2.2.5-cp313-cp313-win_amd64.whl.metadata (60 kB)\n",
      "Downloading numpy-2.2.5-cp313-cp313-win_amd64.whl (12.6 MB)\n",
      "   ---------------------------------------- 0.0/12.6 MB ? eta -:--:--\n",
      "   ----------------------- ---------------- 7.3/12.6 MB 35.5 MB/s eta 0:00:01\n",
      "   ---------------------------------------- 12.6/12.6 MB 31.1 MB/s eta 0:00:00\n",
      "Installing collected packages: numpy\n",
      "Successfully installed numpy-2.2.5\n",
      "Note: you may need to restart the kernel to use updated packages.\n"
     ]
    }
   ],
   "source": [
    "pip install numpy"
   ]
  },
  {
   "cell_type": "code",
   "execution_count": 6,
   "metadata": {},
   "outputs": [],
   "source": [
    "import pandas as pd\n",
    "import numpy as np\n",
    "# Charger le dataset\n",
    "# df = pd.read_csv('path_to_data.csv')"
   ]
  },
  {
   "cell_type": "code",
   "execution_count": 11,
   "id": "d4ce3b53",
   "metadata": {},
   "outputs": [
    {
     "name": "stdout",
     "output_type": "stream",
     "text": [
      "  Make       Model  Year             Engine Fuel Type  Engine HP  \\\n",
      "0  BMW  1 Series M  2011  premium unleaded (required)      335.0   \n",
      "1  BMW    1 Series  2011  premium unleaded (required)      300.0   \n",
      "2  BMW    1 Series  2011  premium unleaded (required)      300.0   \n",
      "3  BMW    1 Series  2011  premium unleaded (required)      230.0   \n",
      "4  BMW    1 Series  2011  premium unleaded (required)      230.0   \n",
      "\n",
      "   Engine Cylinders Transmission Type     Driven_Wheels  Number of Doors  \\\n",
      "0               6.0            MANUAL  rear wheel drive              2.0   \n",
      "1               6.0            MANUAL  rear wheel drive              2.0   \n",
      "2               6.0            MANUAL  rear wheel drive              2.0   \n",
      "3               6.0            MANUAL  rear wheel drive              2.0   \n",
      "4               6.0            MANUAL  rear wheel drive              2.0   \n",
      "\n",
      "                         Market Category Vehicle Size Vehicle Style  \\\n",
      "0  Factory Tuner,Luxury,High-Performance      Compact         Coupe   \n",
      "1                     Luxury,Performance      Compact   Convertible   \n",
      "2                Luxury,High-Performance      Compact         Coupe   \n",
      "3                     Luxury,Performance      Compact         Coupe   \n",
      "4                                 Luxury      Compact   Convertible   \n",
      "\n",
      "   highway MPG  city mpg  Popularity   MSRP  \n",
      "0           26        19        3916  46135  \n",
      "1           28        19        3916  40650  \n",
      "2           28        20        3916  36350  \n",
      "3           28        18        3916  29450  \n",
      "4           28        18        3916  34500  \n",
      "<class 'pandas.core.frame.DataFrame'>\n",
      "RangeIndex: 11914 entries, 0 to 11913\n",
      "Data columns (total 16 columns):\n",
      " #   Column             Non-Null Count  Dtype  \n",
      "---  ------             --------------  -----  \n",
      " 0   Make               11914 non-null  object \n",
      " 1   Model              11914 non-null  object \n",
      " 2   Year               11914 non-null  int64  \n",
      " 3   Engine Fuel Type   11911 non-null  object \n",
      " 4   Engine HP          11845 non-null  float64\n",
      " 5   Engine Cylinders   11884 non-null  float64\n",
      " 6   Transmission Type  11914 non-null  object \n",
      " 7   Driven_Wheels      11914 non-null  object \n",
      " 8   Number of Doors    11908 non-null  float64\n",
      " 9   Market Category    8172 non-null   object \n",
      " 10  Vehicle Size       11914 non-null  object \n",
      " 11  Vehicle Style      11914 non-null  object \n",
      " 12  highway MPG        11914 non-null  int64  \n",
      " 13  city mpg           11914 non-null  int64  \n",
      " 14  Popularity         11914 non-null  int64  \n",
      " 15  MSRP               11914 non-null  int64  \n",
      "dtypes: float64(3), int64(5), object(8)\n",
      "memory usage: 1.5+ MB\n",
      "None\n",
      "             Make           Model          Year  Engine Fuel Type  \\\n",
      "count       11914           11914  11914.000000             11911   \n",
      "unique         48             915           NaN                10   \n",
      "top     Chevrolet  Silverado 1500           NaN  regular unleaded   \n",
      "freq         1123             156           NaN              7172   \n",
      "mean          NaN             NaN   2010.384338               NaN   \n",
      "std           NaN             NaN      7.579740               NaN   \n",
      "min           NaN             NaN   1990.000000               NaN   \n",
      "25%           NaN             NaN   2007.000000               NaN   \n",
      "50%           NaN             NaN   2015.000000               NaN   \n",
      "75%           NaN             NaN   2016.000000               NaN   \n",
      "max           NaN             NaN   2017.000000               NaN   \n",
      "\n",
      "          Engine HP  Engine Cylinders Transmission Type      Driven_Wheels  \\\n",
      "count   11845.00000      11884.000000             11914              11914   \n",
      "unique          NaN               NaN                 5                  4   \n",
      "top             NaN               NaN         AUTOMATIC  front wheel drive   \n",
      "freq            NaN               NaN              8266               4787   \n",
      "mean      249.38607          5.628829               NaN                NaN   \n",
      "std       109.19187          1.780559               NaN                NaN   \n",
      "min        55.00000          0.000000               NaN                NaN   \n",
      "25%       170.00000          4.000000               NaN                NaN   \n",
      "50%       227.00000          6.000000               NaN                NaN   \n",
      "75%       300.00000          6.000000               NaN                NaN   \n",
      "max      1001.00000         16.000000               NaN                NaN   \n",
      "\n",
      "        Number of Doors Market Category Vehicle Size Vehicle Style  \\\n",
      "count      11908.000000            8172        11914         11914   \n",
      "unique              NaN              71            3            16   \n",
      "top                 NaN       Crossover      Compact         Sedan   \n",
      "freq                NaN            1110         4764          3048   \n",
      "mean           3.436093             NaN          NaN           NaN   \n",
      "std            0.881315             NaN          NaN           NaN   \n",
      "min            2.000000             NaN          NaN           NaN   \n",
      "25%            2.000000             NaN          NaN           NaN   \n",
      "50%            4.000000             NaN          NaN           NaN   \n",
      "75%            4.000000             NaN          NaN           NaN   \n",
      "max            4.000000             NaN          NaN           NaN   \n",
      "\n",
      "         highway MPG      city mpg    Popularity          MSRP  \n",
      "count   11914.000000  11914.000000  11914.000000  1.191400e+04  \n",
      "unique           NaN           NaN           NaN           NaN  \n",
      "top              NaN           NaN           NaN           NaN  \n",
      "freq             NaN           NaN           NaN           NaN  \n",
      "mean       26.637485     19.733255   1554.911197  4.059474e+04  \n",
      "std         8.863001      8.987798   1441.855347  6.010910e+04  \n",
      "min        12.000000      7.000000      2.000000  2.000000e+03  \n",
      "25%        22.000000     16.000000    549.000000  2.100000e+04  \n",
      "50%        26.000000     18.000000   1385.000000  2.999500e+04  \n",
      "75%        30.000000     22.000000   2009.000000  4.223125e+04  \n",
      "max       354.000000    137.000000   5657.000000  2.065902e+06  \n"
     ]
    }
   ],
   "source": [
    "# Charger le dataset\n",
    "file_path = r\"C:\\Users\\kapna\\Desktop\\DIGITAL SCHOOL OF PARIS\\PYTHON\\mini_projet\\data.csv\"\n",
    "df = pd.read_csv(file_path, encoding='utf-8', low_memory=False)\n",
    "print(df.head())\n",
    "print(df.info())\n",
    "print(df.describe(include='all'))\n",
    "\n"
   ]
  },
  {
   "cell_type": "code",
   "execution_count": 12,
   "id": "b4ee71fd",
   "metadata": {},
   "outputs": [
    {
     "name": "stdout",
     "output_type": "stream",
     "text": [
      "Variables numériques : ['Year', 'Engine HP', 'Engine Cylinders', 'Number of Doors', 'highway MPG', 'city mpg', 'Popularity', 'MSRP']\n",
      "Variables catégorielles : ['Make', 'Model', 'Engine Fuel Type', 'Transmission Type', 'Driven_Wheels', 'Market Category', 'Vehicle Size', 'Vehicle Style']\n"
     ]
    }
   ],
   "source": [
    "\n",
    "                 # Identifier types de variables\n",
    "numeriques = df.select_dtypes(include=['int64', 'float64']).columns\n",
    "catégorielles = df.select_dtypes(include=['object']).columns\n",
    "print(\"Variables numériques :\", list(numeriques))\n",
    "print(\"Variables catégorielles :\", list(catégorielles))\n",
    "\n"
   ]
  },
  {
   "cell_type": "code",
   "execution_count": 15,
   "id": "41b8d4b4",
   "metadata": {},
   "outputs": [
    {
     "name": "stdout",
     "output_type": "stream",
     "text": [
      "Market Category      3742\n",
      "Engine HP              69\n",
      "Engine Cylinders       30\n",
      "Number of Doors         6\n",
      "Engine Fuel Type        3\n",
      "Model                   0\n",
      "Year                    0\n",
      "Make                    0\n",
      "Driven_Wheels           0\n",
      "Transmission Type       0\n",
      "Vehicle Size            0\n",
      "Vehicle Style           0\n",
      "highway MPG             0\n",
      "city mpg                0\n",
      "Popularity              0\n",
      "MSRP                    0\n",
      "dtype: int64\n"
     ]
    }
   ],
   "source": [
    "                #identification  Valeurs manquantes\n",
    "print(df.isnull().sum().sort_values(ascending=False))"
   ]
  },
  {
   "cell_type": "code",
   "execution_count": 17,
   "id": "d510d80b",
   "metadata": {},
   "outputs": [
    {
     "name": "stdout",
     "output_type": "stream",
     "text": [
      "Nombre de doublons : 715\n"
     ]
    }
   ],
   "source": [
    "                #  identificationDoublons\n",
    "print(\"Nombre de doublons :\", df.duplicated().sum())"
   ]
  },
  {
   "cell_type": "code",
   "execution_count": 31,
   "id": "3073f2db",
   "metadata": {},
   "outputs": [],
   "source": [
    "# 1. Recherche de doublons\n",
    "duplicates = df[df.duplicated()]\n"
   ]
  },
  {
   "cell_type": "code",
   "execution_count": 32,
   "id": "ba94e7e9",
   "metadata": {},
   "outputs": [],
   "source": [
    "# 2. Valeurs aberrantes ou incohérentes\n",
    "#    -> Analyse des distributions pour détecter anomalies\n",
    "summary_stats = df.describe()\n"
   ]
  },
  {
   "cell_type": "code",
   "execution_count": 33,
   "id": "0c6639ce",
   "metadata": {},
   "outputs": [],
   "source": [
    "# Rechercher des incohérences spécifiques\n",
    "# Engine HP < 50 ou > 1000 peut être suspect\n",
    "hp_outliers = df[(df[\"Engine HP\"] < 50) | (df[\"Engine HP\"] > 1000)]\n"
   ]
  },
  {
   "cell_type": "code",
   "execution_count": 34,
   "id": "84831e31",
   "metadata": {},
   "outputs": [],
   "source": [
    "\n",
    "# Number of Doors : vérifier que ce sont bien des valeurs entières et réalistes (ex: 2, 4)\n",
    "door_outliers = df[~df[\"Number of Doors\"].isin([2.0, 3.0, 4.0, 5.0])]"
   ]
  },
  {
   "cell_type": "code",
   "execution_count": 27,
   "id": "8d307367",
   "metadata": {},
   "outputs": [],
   "source": [
    "\n",
    "# Engine Cylinders : valeurs possibles généralement entre 3 et 12\n",
    "cylinder_outliers = df[(df[\"Engine Cylinders\"] < 3) | (df[\"Engine Cylinders\"] > 12)]"
   ]
  },
  {
   "cell_type": "code",
   "execution_count": 35,
   "id": "346d2cdf",
   "metadata": {},
   "outputs": [],
   "source": [
    "\n",
    "# 3. Corrélations entre les variables numériques\n",
    "correlations = df.corr(numeric_only=True)"
   ]
  },
  {
   "cell_type": "code",
   "execution_count": 30,
   "id": "e8d294f9",
   "metadata": {},
   "outputs": [
    {
     "data": {
      "text/plain": [
       "{'nb_duplicated_rows': 715,\n",
       " 'hp_outliers_count': 3,\n",
       " 'door_outliers_count': 6,\n",
       " 'cylinder_outliers_count': 59,\n",
       " 'correlation_matrix':                       MSRP\n",
       " MSRP              1.000000\n",
       " Engine HP         0.662008\n",
       " Engine Cylinders  0.531312\n",
       " Year              0.227590\n",
       " Popularity       -0.048476\n",
       " Number of Doors  -0.126635\n",
       " city mpg         -0.157676\n",
       " highway MPG      -0.160043}"
      ]
     },
     "execution_count": 30,
     "metadata": {},
     "output_type": "execute_result"
    }
   ],
   "source": [
    "\n",
    "# Affichage des résultats\n",
    "{\n",
    "    \"nb_duplicated_rows\": len(duplicates),\n",
    "    \"hp_outliers_count\": len(hp_outliers),\n",
    "    \"door_outliers_count\": len(door_outliers),\n",
    "    \"cylinder_outliers_count\": len(cylinder_outliers),\n",
    "    \"correlation_matrix\": correlations[[\"MSRP\"]].sort_values(by=\"MSRP\", ascending=False)\n",
    "}\n"
   ]
  },
  {
   "cell_type": "markdown",
   "id": "d185ffa1",
   "metadata": {},
   "source": [
    "oici ce que j'ai trouvé après l'analyse du fichier :\n",
    " 1. Doublons\n",
    "\n",
    "    715 lignes sont entièrement dupliquées dans le dataset.\n",
    "\n",
    " 2. Valeurs aberrantes / incohérentes\n",
    "\n",
    "    Engine HP : 3 valeurs sont suspectes (hors de l’intervalle [50, 1000]).\n",
    "\n",
    "    Number of Doors : 6 lignes ont un nombre de portes non standard (autre que 2, 3, 4 ou 5).\n",
    "\n",
    "    Engine Cylinders : 59 valeurs sont en dehors de la plage typique [3, 12].\n",
    "\n",
    "3. Corrélations avec MSRP (prix du véhicule)\n",
    "\n",
    "Les variables les plus corrélées avec le prix (MSRP) :\n",
    "\n",
    "    Engine HP : +0.66\n",
    "\n",
    "    Engine Cylinders : +0.53\n",
    "\n",
    "    Year : +0.23\n",
    "\n",
    "Corrélations négatives :\n",
    "\n",
    "    highway MPG, city mpg : environ -0.16\n",
    "\n",
    "    Popularity : très faible et légèrement négative -0.05\n",
    "\n",
    " 4.  Plusieurs colonnes présentent des valeurs manquantes :\n",
    "\n",
    "    Engine Fuel Type : 3 valeurs manquantes\n",
    "\n",
    "    Engine HP : 69 valeurs manquantes\n",
    "\n",
    "    Engine Cylinders : 30 valeurs manquantes\n",
    "\n",
    "    Number of Doors : 6 valeurs manquantes\n",
    "\n",
    "    Market Category : 3742 valeurs manquantes (beaucoup)\n",
    "\n",
    " 5. colonnes utiles\n",
    "\n",
    "\n",
    "    Engine HP, Engine Cylinders, Year, Transmission Type, Driven_Wheels, Vehicle Size, Vehicle Style"
   ]
  },
  {
   "cell_type": "code",
   "execution_count": 37,
   "id": "5a49568a",
   "metadata": {},
   "outputs": [],
   "source": [
    "     #NOUS ALLONS PROCEDE A UN NETTOYAGE DE DONN2E\n",
    "\n",
    "\n",
    "# Copie du dataframe original pour le nettoyage\n",
    "df_cleaned = df.copy()\n"
   ]
  },
  {
   "cell_type": "code",
   "execution_count": 38,
   "id": "e108cc34",
   "metadata": {},
   "outputs": [
    {
     "name": "stderr",
     "output_type": "stream",
     "text": [
      "C:\\Users\\kapna\\AppData\\Local\\Temp\\ipykernel_5320\\56012322.py:15: FutureWarning: A value is trying to be set on a copy of a DataFrame or Series through chained assignment using an inplace method.\n",
      "The behavior will change in pandas 3.0. This inplace method will never work because the intermediate object on which we are setting values always behaves as a copy.\n",
      "\n",
      "For example, when doing 'df[col].method(value, inplace=True)', try using 'df.method({col: value}, inplace=True)' or df[col] = df[col].method(value) instead, to perform the operation inplace on the original object.\n",
      "\n",
      "\n",
      "  df_cleaned[\"Engine HP\"].fillna(df_cleaned[\"Engine HP\"].mean(), inplace=True)\n",
      "C:\\Users\\kapna\\AppData\\Local\\Temp\\ipykernel_5320\\56012322.py:18: FutureWarning: A value is trying to be set on a copy of a DataFrame or Series through chained assignment using an inplace method.\n",
      "The behavior will change in pandas 3.0. This inplace method will never work because the intermediate object on which we are setting values always behaves as a copy.\n",
      "\n",
      "For example, when doing 'df[col].method(value, inplace=True)', try using 'df.method({col: value}, inplace=True)' or df[col] = df[col].method(value) instead, to perform the operation inplace on the original object.\n",
      "\n",
      "\n",
      "  df_cleaned[\"Engine Cylinders\"].fillna(df_cleaned[\"Engine Cylinders\"].median(), inplace=True)\n",
      "C:\\Users\\kapna\\AppData\\Local\\Temp\\ipykernel_5320\\56012322.py:21: FutureWarning: A value is trying to be set on a copy of a DataFrame or Series through chained assignment using an inplace method.\n",
      "The behavior will change in pandas 3.0. This inplace method will never work because the intermediate object on which we are setting values always behaves as a copy.\n",
      "\n",
      "For example, when doing 'df[col].method(value, inplace=True)', try using 'df.method({col: value}, inplace=True)' or df[col] = df[col].method(value) instead, to perform the operation inplace on the original object.\n",
      "\n",
      "\n",
      "  df_cleaned[\"Number of Doors\"].fillna(df_cleaned[\"Number of Doors\"].mode()[0], inplace=True)\n",
      "C:\\Users\\kapna\\AppData\\Local\\Temp\\ipykernel_5320\\56012322.py:22: FutureWarning: A value is trying to be set on a copy of a DataFrame or Series through chained assignment using an inplace method.\n",
      "The behavior will change in pandas 3.0. This inplace method will never work because the intermediate object on which we are setting values always behaves as a copy.\n",
      "\n",
      "For example, when doing 'df[col].method(value, inplace=True)', try using 'df.method({col: value}, inplace=True)' or df[col] = df[col].method(value) instead, to perform the operation inplace on the original object.\n",
      "\n",
      "\n",
      "  df_cleaned[\"Engine Fuel Type\"].fillna(\"unknown\", inplace=True)\n",
      "C:\\Users\\kapna\\AppData\\Local\\Temp\\ipykernel_5320\\56012322.py:23: FutureWarning: A value is trying to be set on a copy of a DataFrame or Series through chained assignment using an inplace method.\n",
      "The behavior will change in pandas 3.0. This inplace method will never work because the intermediate object on which we are setting values always behaves as a copy.\n",
      "\n",
      "For example, when doing 'df[col].method(value, inplace=True)', try using 'df.method({col: value}, inplace=True)' or df[col] = df[col].method(value) instead, to perform the operation inplace on the original object.\n",
      "\n",
      "\n",
      "  df_cleaned[\"Market Category\"].fillna(\"unknown\", inplace=True)\n"
     ]
    },
    {
     "data": {
      "text/plain": [
       "(11084, 16)"
      ]
     },
     "execution_count": 38,
     "metadata": {},
     "output_type": "execute_result"
    }
   ],
   "source": [
    "\n",
    "             # Suptression des DOUBLONS\n",
    "df_cleaned = df_cleaned.drop_duplicates()\n",
    "\n",
    "             #Suptression des valeurs aberrantes\n",
    "\n",
    "df_cleaned = df_cleaned[(df_cleaned[\"Engine HP\"] >= 50) & (df_cleaned[\"Engine HP\"] <= 1000)]\n",
    "\n",
    "\n",
    "df_cleaned = df_cleaned[(df_cleaned[\"Engine Cylinders\"] >= 3) & (df_cleaned[\"Engine Cylinders\"] <= 12)]\n",
    "\n",
    "\n",
    "df_cleaned = df_cleaned[df_cleaned[\"Number of Doors\"].isin([2.0, 3.0, 4.0, 5.0])]\n",
    "\n",
    "\n",
    "df_cleaned[\"Engine HP\"].fillna(df_cleaned[\"Engine HP\"].mean(), inplace=True)\n",
    "\n",
    "\n",
    "df_cleaned[\"Engine Cylinders\"].fillna(df_cleaned[\"Engine Cylinders\"].median(), inplace=True)\n",
    "\n",
    "            #NOMBRE DE PORTE\n",
    "df_cleaned[\"Number of Doors\"].fillna(df_cleaned[\"Number of Doors\"].mode()[0], inplace=True)\n",
    "df_cleaned[\"Engine Fuel Type\"].fillna(\"unknown\", inplace=True)\n",
    "df_cleaned[\"Market Category\"].fillna(\"unknown\", inplace=True)\n",
    "\n",
    "df_cleaned.shape\n"
   ]
  },
  {
   "cell_type": "markdown",
   "id": "9d024034",
   "metadata": {},
   "source": [
    " LE NETOYAGE EST TERMINE \n",
    " \n",
    " RESUME :\n",
    "\n",
    "    Doublons supprimés : 715 lignes\n",
    "\n",
    "    Valeurs aberrantes supprimées : HP, Cylinders, Doors filtrés\n",
    "\n",
    "    Valeurs manquantes imputées/remplacées :\n",
    "\n",
    "        Engine HP → moyenne\n",
    "\n",
    "        Engine Cylinders → médiane\n",
    "\n",
    "        Number of Doors → mode\n",
    "\n",
    "        Engine Fuel Type, Market Category → \"unknown\"\n",
    "\n",
    "Taille finale du dataset nettoyé : 11 084 lignes, 16 colonnes"
   ]
  },
  {
   "cell_type": "markdown",
   "metadata": {},
   "source": [
    "## 2. Nettoyage avancé\n",
    "- Homogénéiser le format des prix\n",
    "- Normaliser la cylindrée et la puissance\n",
    "- Corriger les formats de date\n",
    "- Uniformiser marques et modèles\n",
    "- Questions : unités de puissance, traitement des lignes incohérentes\n",
    "\n",
    "\n",
    "Exemples de nettoyage :\n",
    "Prix : convertir \"20,000 USD\", \"23k\", \"€19.5K\" → nombre homogène\n",
    "\n",
    "Cylindrée : \"2.0L\", \"2000cc\", \"120 hp\" → puissance normalisée\n",
    "\n",
    "Dates : corriger les années absurdes (ex: fabrication après la vente)\n",
    "\n",
    "Marques et modèles : uniformiser les noms (\"VW\", \"Volkswagen\", \"volks wagen\")"
   ]
  },
  {
   "cell_type": "code",
   "execution_count": 42,
   "id": "905d4c75",
   "metadata": {},
   "outputs": [
    {
     "name": "stdout",
     "output_type": "stream",
     "text": [
      "0    20,000 USD\n",
      "1           23k\n",
      "2        €19.5K\n",
      "3       $15,300\n",
      "4         18.2k\n",
      "5         22000\n",
      "6      € 24.000\n",
      "7      25 K USD\n",
      "8          £21k\n",
      "dtype: object\n"
     ]
    }
   ],
   "source": [
    "# Exemple de nettoyage des prix\n",
    "#df['price_clean'] = df['price'].apply(clean_price)\n",
    "price = pd.Series([\n",
    "    \"20,000 USD\", \"23k\", \"€19.5K\", \"$15,300\", \"18.2k\", \"22000\", \"€ 24.000\", \"25 K USD\", \"£21k\"\n",
    "])\n",
    "print(price)"
   ]
  },
  {
   "cell_type": "code",
   "execution_count": 44,
   "id": "434e952e",
   "metadata": {},
   "outputs": [
    {
     "data": {
      "text/plain": [
       "0     20000\n",
       "1     23000\n",
       "2    195000\n",
       "3     15300\n",
       "4    182000\n",
       "5     22000\n",
       "6     24000\n",
       "7     25000\n",
       "8     21000\n",
       "dtype: int64"
      ]
     },
     "execution_count": 44,
     "metadata": {},
     "output_type": "execute_result"
    }
   ],
   "source": [
    "# nettoyage de prix\n",
    "import re\n",
    "\n",
    "def clean_price(value):\n",
    "    if pd.isnull(value):\n",
    "        return None\n",
    "    # Enlever les symboles monétaires et lettres inutiles\n",
    "   # value = str(value).lower().replace(',', '').replace('€', '').replace('$', '').replace('usd', '').replace('£', '').strip()\n",
    "    value = str(value).lower()\n",
    "    value = value.replace('€', '').replace('$', '').replace('usd', '').replace('£', '').strip()\n",
    "    value = value.replace('.', '') if ',' not in value else value  # pour \"24.000\"\n",
    "    value = value.replace(',', '').replace(' ', '')\n",
    "    \n",
    "    # Si 'k' présent, convertir en milliers\n",
    "    match = re.match(r'(\\d+(\\.\\d+)?)[ ]*k', value)\n",
    "    if match:\n",
    "        return round(float(match.group(1)) * 1000)\n",
    "    \n",
    "    # Si nombre simple\n",
    "    try:\n",
    "        return round(float(value))\n",
    "    except ValueError:\n",
    "        return None\n",
    "\n",
    "# Appliquer au jeu d'exemple\n",
    "cleaned_price = price.apply(clean_price)\n",
    "cleaned_price\n"
   ]
  },
  {
   "cell_type": "markdown",
   "metadata": {},
   "source": [
    "## 3. Feature Engineering (création de variables)\n",
    "- Calcul de l'âge du véhicule\n",
    "- Catégorisation du segment (compact, SUV, etc.)\n",
    "- Encodage des variables catégorielles\n",
    "- Questions : relation âge/prix, influence du segment\n",
    "\n",
    "\n",
    "Exemples :\n",
    "Age du véhicule = année actuelle - année de fabrication\n",
    "\n",
    "Segment du véhicule (ex: compact, SUV, utilitaire) à partir du modèle\n",
    "\n",
    "Encodeur ordinal ou one-hot pour les catégories (carburant, boîte auto/manuelle, etc.)"
   ]
  },
  {
   "cell_type": "code",
   "execution_count": null,
   "metadata": {},
   "outputs": [],
   "source": [
    "# Création de nouvelles variables\n",
    "# df['age'] = current_year - df['year']"
   ]
  },
  {
   "cell_type": "markdown",
   "metadata": {},
   "source": [
    "## 4. Analyse exploratoire (EDA)\n",
    "- Corrélations entre variables numériques\n",
    "- Distribution du prix par segment et type de carburant\n",
    "- Identification des outliers sur le prix et le kilométrage\n",
    "- Analyse de la distribution des variables (histogrammes, boxplots)\n",
    "- Analyse des interactions entre variables (scatter matrix)\n",
    "\n",
    "**Questions à se poser** :\n",
    "- Quelles variables numériques sont les plus corrélées avec le prix ?\n",
    "- Le prix suit-il une relation linéaire ou log-linéaire avec l'âge, le kilométrage et la puissance ?\n",
    "- Y a-t-il des effets de seuil ou de segments (par exemple SUV vs citadine) sur la distribution des prix ?\n",
    "- Comment le kilométrage impacte-t-il le prix selon l'âge du véhicule ?\n",
    "- Y a-t-il des relations non linéaires entre la puissance moteur et le prix ?\n",
    "- La localisation géographique ou la date d'inscription influence-t-elle significativement le prix ?\n",
    "- Quels attributs catégoriels (carburant, transmission, couleur, nombre de portes) ont un impact sur le prix ?\n",
    "- Y a-t-il des valeurs aberrantes dans d'autres variables (kilométrage, âge) qui pourraient fausser les analyses ?\n",
    "- Les variables formant des paires montrent-elles des interactions (par exemple âge vs puissance) ?\n",
    "- Faut-il transformer certaines variables (log, racine carrée) pour linéariser leur relation avec le prix ?"
   ]
  },
  {
   "cell_type": "code",
   "execution_count": null,
   "metadata": {},
   "outputs": [],
   "source": [
    "# Visualisations\n",
    "# import matplotlib.pyplot as plt"
   ]
  },
  {
   "cell_type": "markdown",
   "metadata": {},
   "source": [
    "## 5. Modélisation (sans scikit-learn)\n",
    "- Régression linéaire avec NumPy / statsmodels\n",
    "- Évaluation performance sur validation\n",
    "- Questions : variables importantes, sur-/sous-apprentissage"
   ]
  },
  {
   "cell_type": "code",
   "execution_count": null,
   "metadata": {},
   "outputs": [],
   "source": [
    "# Modèle de régression\n",
    "# import statsmodels.api as sm"
   ]
  },
  {
   "cell_type": "markdown",
   "metadata": {},
   "source": [
    "## 6. Analyse des erreurs et des résidus\n",
    "- Distribution des erreurs par segment\n",
    "- Résidus vs prix réel\n",
    "- Détection d'outliers non captés\n"
   ]
  },
  {
   "cell_type": "code",
   "execution_count": null,
   "metadata": {},
   "outputs": [],
   "source": [
    "# Analyse des résidus\n",
    "# residuals = model.predict(X) - y_true"
   ]
  },
  {
   "cell_type": "markdown",
   "metadata": {},
   "source": [
    "## 7. Synthèse des résultats\n",
    "- Importance des variables\n",
    "- Exemples de bonnes/mauvaises prédictions\n",
    "- Limites et pistes d'amélioration\n"
   ]
  }
 ],
 "metadata": {
  "kernelspec": {
   "display_name": ".venv",
   "language": "python",
   "name": "python3"
  },
  "language_info": {
   "codemirror_mode": {
    "name": "ipython",
    "version": 3
   },
   "file_extension": ".py",
   "mimetype": "text/x-python",
   "name": "python",
   "nbconvert_exporter": "python",
   "pygments_lexer": "ipython3",
   "version": "3.13.3"
  }
 },
 "nbformat": 4,
 "nbformat_minor": 5
}
